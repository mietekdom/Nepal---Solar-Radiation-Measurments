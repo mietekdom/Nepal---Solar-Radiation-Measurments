{
  "nbformat": 4,
  "nbformat_minor": 0,
  "metadata": {
    "colab": {
      "name": "Nepal_solar_radiation.ipynb",
      "provenance": [],
      "collapsed_sections": [],
      "authorship_tag": "ABX9TyM32EpsUSSpKqsJhMTpwhaN",
      "include_colab_link": true
    },
    "kernelspec": {
      "name": "python3",
      "display_name": "Python 3"
    }
  },
  "cells": [
    {
      "cell_type": "markdown",
      "metadata": {
        "id": "view-in-github",
        "colab_type": "text"
      },
      "source": [
        "<a href=\"https://colab.research.google.com/github/mietekdom/Nepal_Solar-Radiation-Measurments/blob/main/Nepal_solar_radiation.ipynb\" target=\"_parent\"><img src=\"https://colab.research.google.com/assets/colab-badge.svg\" alt=\"Open In Colab\"/></a>"
      ]
    },
    {
      "cell_type": "code",
      "metadata": {
        "id": "zSZCQ6SIldZr"
      },
      "source": [
        "import pandas as pd\n",
        "import numpy as np\n",
        "from datetime import datetime\n",
        "import plotly\n",
        "import plotly.express as px\n",
        "import matplotlib.pyplot as plt\n",
        "import seaborn as sns \n",
        "sns.set()"
      ],
      "execution_count": 19,
      "outputs": []
    },
    {
      "cell_type": "markdown",
      "metadata": {
        "id": "4MyQCKszq17W"
      },
      "source": [
        "**Import data**"
      ]
    },
    {
      "cell_type": "code",
      "metadata": {
        "colab": {
          "base_uri": "https://localhost:8080/",
          "height": 674
        },
        "id": "dE39nIt4rMHn",
        "outputId": "03a81a08-06e5-41b8-9ab0-3a62b8b67748"
      },
      "source": [
        "df = pd.read_csv('https://energydata.info/dataset/ead8d2fa-de59-48d3-8693-817b36b3a470/resource/ef17f691-0256-497d-a5ee-3c6a334ae1e2/download/solar-measurements_nepal_dharan_wb-esmap_qc.csv', \n",
        "                 index_col=0)\n",
        "df.head()\n"
      ],
      "execution_count": 59,
      "outputs": [
        {
          "output_type": "stream",
          "text": [
            "/usr/local/lib/python3.6/dist-packages/IPython/core/interactiveshell.py:2718: DtypeWarning:\n",
            "\n",
            "Columns (13) have mixed types.Specify dtype option on import or set low_memory=False.\n",
            "\n"
          ],
          "name": "stderr"
        },
        {
          "output_type": "execute_result",
          "data": {
            "text/html": [
              "<div>\n",
              "<style scoped>\n",
              "    .dataframe tbody tr th:only-of-type {\n",
              "        vertical-align: middle;\n",
              "    }\n",
              "\n",
              "    .dataframe tbody tr th {\n",
              "        vertical-align: top;\n",
              "    }\n",
              "\n",
              "    .dataframe thead th {\n",
              "        text-align: right;\n",
              "    }\n",
              "</style>\n",
              "<table border=\"1\" class=\"dataframe\">\n",
              "  <thead>\n",
              "    <tr style=\"text-align: right;\">\n",
              "      <th></th>\n",
              "      <th>ghi</th>\n",
              "      <th>dni</th>\n",
              "      <th>dhi</th>\n",
              "      <th>air_temperature</th>\n",
              "      <th>relative_humidity</th>\n",
              "      <th>wind_speed</th>\n",
              "      <th>wind_speed_of_gust</th>\n",
              "      <th>wind_from_direction_st_dev</th>\n",
              "      <th>wind_from_direction</th>\n",
              "      <th>barometric_pressure</th>\n",
              "      <th>rain</th>\n",
              "      <th>sensor_cleaning</th>\n",
              "      <th>comments</th>\n",
              "    </tr>\n",
              "    <tr>\n",
              "      <th>time</th>\n",
              "      <th></th>\n",
              "      <th></th>\n",
              "      <th></th>\n",
              "      <th></th>\n",
              "      <th></th>\n",
              "      <th></th>\n",
              "      <th></th>\n",
              "      <th></th>\n",
              "      <th></th>\n",
              "      <th></th>\n",
              "      <th></th>\n",
              "      <th></th>\n",
              "      <th></th>\n",
              "    </tr>\n",
              "  </thead>\n",
              "  <tbody>\n",
              "    <tr>\n",
              "      <th>2018-07-01 00:01</th>\n",
              "      <td>0.0</td>\n",
              "      <td>NaN</td>\n",
              "      <td>NaN</td>\n",
              "      <td>26.7</td>\n",
              "      <td>95.0</td>\n",
              "      <td>2.5</td>\n",
              "      <td>3.2</td>\n",
              "      <td>8.2</td>\n",
              "      <td>27.9</td>\n",
              "      <td>965.3</td>\n",
              "      <td>0.0</td>\n",
              "      <td>0</td>\n",
              "      <td>Tracking device misaligned; no DNI/DHI measure...</td>\n",
              "    </tr>\n",
              "    <tr>\n",
              "      <th>2018-07-01 00:02</th>\n",
              "      <td>0.0</td>\n",
              "      <td>NaN</td>\n",
              "      <td>NaN</td>\n",
              "      <td>26.7</td>\n",
              "      <td>94.5</td>\n",
              "      <td>2.3</td>\n",
              "      <td>2.9</td>\n",
              "      <td>7.5</td>\n",
              "      <td>24.3</td>\n",
              "      <td>965.3</td>\n",
              "      <td>0.0</td>\n",
              "      <td>0</td>\n",
              "      <td>Tracking device misaligned; no DNI/DHI measure...</td>\n",
              "    </tr>\n",
              "    <tr>\n",
              "      <th>2018-07-01 00:03</th>\n",
              "      <td>0.0</td>\n",
              "      <td>NaN</td>\n",
              "      <td>NaN</td>\n",
              "      <td>26.7</td>\n",
              "      <td>94.3</td>\n",
              "      <td>2.4</td>\n",
              "      <td>3.2</td>\n",
              "      <td>9.0</td>\n",
              "      <td>20.7</td>\n",
              "      <td>965.3</td>\n",
              "      <td>0.0</td>\n",
              "      <td>0</td>\n",
              "      <td>Tracking device misaligned; no DNI/DHI measure...</td>\n",
              "    </tr>\n",
              "    <tr>\n",
              "      <th>2018-07-01 00:04</th>\n",
              "      <td>0.0</td>\n",
              "      <td>NaN</td>\n",
              "      <td>NaN</td>\n",
              "      <td>26.7</td>\n",
              "      <td>94.3</td>\n",
              "      <td>2.5</td>\n",
              "      <td>2.9</td>\n",
              "      <td>8.9</td>\n",
              "      <td>15.6</td>\n",
              "      <td>965.2</td>\n",
              "      <td>0.0</td>\n",
              "      <td>0</td>\n",
              "      <td>Tracking device misaligned; no DNI/DHI measure...</td>\n",
              "    </tr>\n",
              "    <tr>\n",
              "      <th>2018-07-01 00:05</th>\n",
              "      <td>0.0</td>\n",
              "      <td>NaN</td>\n",
              "      <td>NaN</td>\n",
              "      <td>26.8</td>\n",
              "      <td>94.2</td>\n",
              "      <td>2.1</td>\n",
              "      <td>2.9</td>\n",
              "      <td>7.4</td>\n",
              "      <td>15.4</td>\n",
              "      <td>965.2</td>\n",
              "      <td>0.0</td>\n",
              "      <td>0</td>\n",
              "      <td>Tracking device misaligned; no DNI/DHI measure...</td>\n",
              "    </tr>\n",
              "  </tbody>\n",
              "</table>\n",
              "</div>"
            ],
            "text/plain": [
              "                  ghi  ...                                           comments\n",
              "time                   ...                                                   \n",
              "2018-07-01 00:01  0.0  ...  Tracking device misaligned; no DNI/DHI measure...\n",
              "2018-07-01 00:02  0.0  ...  Tracking device misaligned; no DNI/DHI measure...\n",
              "2018-07-01 00:03  0.0  ...  Tracking device misaligned; no DNI/DHI measure...\n",
              "2018-07-01 00:04  0.0  ...  Tracking device misaligned; no DNI/DHI measure...\n",
              "2018-07-01 00:05  0.0  ...  Tracking device misaligned; no DNI/DHI measure...\n",
              "\n",
              "[5 rows x 13 columns]"
            ]
          },
          "metadata": {
            "tags": []
          },
          "execution_count": 59
        }
      ]
    },
    {
      "cell_type": "code",
      "metadata": {
        "colab": {
          "base_uri": "https://localhost:8080/"
        },
        "id": "hDea2feBsRsK",
        "outputId": "738a80c1-83e1-40cb-c4a6-81eea4f4f23a"
      },
      "source": [
        "df.info()"
      ],
      "execution_count": 60,
      "outputs": [
        {
          "output_type": "stream",
          "text": [
            "<class 'pandas.core.frame.DataFrame'>\n",
            "Index: 964800 entries, 2018-07-01 00:01 to 2020-05-01 00:00\n",
            "Data columns (total 13 columns):\n",
            " #   Column                      Non-Null Count   Dtype  \n",
            "---  ------                      --------------   -----  \n",
            " 0   ghi                         964800 non-null  float64\n",
            " 1   dni                         933840 non-null  float64\n",
            " 2   dhi                         933840 non-null  float64\n",
            " 3   air_temperature             964800 non-null  float64\n",
            " 4   relative_humidity           964800 non-null  float64\n",
            " 5   wind_speed                  964800 non-null  float64\n",
            " 6   wind_speed_of_gust          964800 non-null  float64\n",
            " 7   wind_from_direction_st_dev  964800 non-null  float64\n",
            " 8   wind_from_direction         964800 non-null  float64\n",
            " 9   barometric_pressure         964800 non-null  float64\n",
            " 10  rain                        964800 non-null  float64\n",
            " 11  sensor_cleaning             964800 non-null  int64  \n",
            " 12  comments                    182153 non-null  object \n",
            "dtypes: float64(11), int64(1), object(1)\n",
            "memory usage: 103.1+ MB\n"
          ],
          "name": "stdout"
        }
      ]
    },
    {
      "cell_type": "markdown",
      "metadata": {
        "id": "q1CfTj12vVa_"
      },
      "source": [
        "Description:\n",
        "\n",
        "ghi\t- Global horizontal irradiance (W/m²) from thermopile pyranometer\n",
        "\n",
        "dni\t- Direct normal irradiance (W/m²) from thermopile pyrheliometer\n",
        "\n",
        "dhi\t- Diffused horizontal irradiance (W/m²) from thermopile pyranometer\n"
      ]
    },
    {
      "cell_type": "code",
      "metadata": {
        "colab": {
          "base_uri": "https://localhost:8080/"
        },
        "id": "C1PbvZl4zjwy",
        "outputId": "d9831271-446e-423e-d0c9-8bfeb348de98"
      },
      "source": [
        "df.columns"
      ],
      "execution_count": 61,
      "outputs": [
        {
          "output_type": "execute_result",
          "data": {
            "text/plain": [
              "Index(['ghi', 'dni', 'dhi', 'air_temperature', 'relative_humidity',\n",
              "       'wind_speed', 'wind_speed_of_gust', 'wind_from_direction_st_dev',\n",
              "       'wind_from_direction', 'barometric_pressure', 'rain', 'sensor_cleaning',\n",
              "       'comments'],\n",
              "      dtype='object')"
            ]
          },
          "metadata": {
            "tags": []
          },
          "execution_count": 61
        }
      ]
    },
    {
      "cell_type": "markdown",
      "metadata": {
        "id": "DJ8Y1nMNxblR"
      },
      "source": [
        "**Rain analysis**"
      ]
    },
    {
      "cell_type": "code",
      "metadata": {
        "colab": {
          "base_uri": "https://localhost:8080/"
        },
        "id": "UqIyhYAMxdJW",
        "outputId": "7fb87942-f43e-4f31-a04e-477b19190642"
      },
      "source": [
        "df_rain = df['rain']\n",
        "df_rain"
      ],
      "execution_count": 62,
      "outputs": [
        {
          "output_type": "execute_result",
          "data": {
            "text/plain": [
              "time\n",
              "2018-07-01 00:01    0.0\n",
              "2018-07-01 00:02    0.0\n",
              "2018-07-01 00:03    0.0\n",
              "2018-07-01 00:04    0.0\n",
              "2018-07-01 00:05    0.0\n",
              "                   ... \n",
              "2020-04-30 23:56    0.0\n",
              "2020-04-30 23:57    0.0\n",
              "2020-04-30 23:58    0.0\n",
              "2020-04-30 23:59    0.0\n",
              "2020-05-01 00:00    0.0\n",
              "Name: rain, Length: 964800, dtype: float64"
            ]
          },
          "metadata": {
            "tags": []
          },
          "execution_count": 62
        }
      ]
    },
    {
      "cell_type": "code",
      "metadata": {
        "colab": {
          "base_uri": "https://localhost:8080/",
          "height": 285
        },
        "id": "NBToCxP-HXB3",
        "outputId": "89fedb38-966c-4fe2-b92a-9ff4b8c6275b"
      },
      "source": [
        "_ = df_rain.plot()"
      ],
      "execution_count": 65,
      "outputs": [
        {
          "output_type": "display_data",
          "data": {
            "image/png": "[encoded data removed]",
            "text/plain": [
              "<Figure size 432x288 with 1 Axes>"
            ]
          },
          "metadata": {
            "tags": []
          }
        }
      ]
    }
  ]
}