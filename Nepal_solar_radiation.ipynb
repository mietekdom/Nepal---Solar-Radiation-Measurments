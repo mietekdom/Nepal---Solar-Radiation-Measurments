{
  "nbformat": 4,
  "nbformat_minor": 0,
  "metadata": {
    "colab": {
      "name": "Nepal_solar_radiation.ipynb",
      "provenance": [],
      "collapsed_sections": [],
      "authorship_tag": "ABX9TyP25uWpbdTui58PqZZ8jc9T",
      "include_colab_link": true
    },
    "kernelspec": {
      "name": "python3",
      "display_name": "Python 3"
    }
  },
  "cells": [
    {
      "cell_type": "markdown",
      "metadata": {
        "id": "view-in-github",
        "colab_type": "text"
      },
      "source": [
        "<a href=\"https://colab.research.google.com/github/mietekdom/Nepal_Solar-Radiation-Measurments/blob/main/Nepal_solar_radiation.ipynb\" target=\"_parent\"><img src=\"https://colab.research.google.com/assets/colab-badge.svg\" alt=\"Open In Colab\"/></a>"
      ]
    },
    {
      "cell_type": "code",
      "metadata": {
        "id": "zSZCQ6SIldZr"
      },
      "source": [
        "import pandas as pd\n",
        "import numpy as np\n",
        "from datetime import datetime\n",
        "import plotly\n",
        "import plotly.express as px\n",
        "import matplotlib.pyplot as plt\n",
        "import seaborn as sns \n",
        "sns.set()"
      ],
      "execution_count": 149,
      "outputs": []
    },
    {
      "cell_type": "markdown",
      "metadata": {
        "id": "4MyQCKszq17W"
      },
      "source": [
        "**Import data**"
      ]
    },
    {
      "cell_type": "code",
      "metadata": {
        "colab": {
          "base_uri": "https://localhost:8080/",
          "height": 674
        },
        "id": "dE39nIt4rMHn",
        "outputId": "dbd94087-883a-4425-f3a9-bdfd622fbf0a"
      },
      "source": [
        "df = pd.read_csv('https://energydata.info/dataset/ead8d2fa-de59-48d3-8693-817b36b3a470/resource/ef17f691-0256-497d-a5ee-3c6a334ae1e2/download/solar-measurements_nepal_dharan_wb-esmap_qc.csv',\n",
        "                 index_col=0, parse_dates=True)\n",
        "df.head()\n"
      ],
      "execution_count": 191,
      "outputs": [
        {
          "output_type": "stream",
          "text": [
            "/usr/local/lib/python3.6/dist-packages/IPython/core/interactiveshell.py:2718: DtypeWarning:\n",
            "\n",
            "Columns (13) have mixed types.Specify dtype option on import or set low_memory=False.\n",
            "\n"
          ],
          "name": "stderr"
        },
        {
          "output_type": "execute_result",
          "data": {
            "text/html": [
              "<div>\n",
              "<style scoped>\n",
              "    .dataframe tbody tr th:only-of-type {\n",
              "        vertical-align: middle;\n",
              "    }\n",
              "\n",
              "    .dataframe tbody tr th {\n",
              "        vertical-align: top;\n",
              "    }\n",
              "\n",
              "    .dataframe thead th {\n",
              "        text-align: right;\n",
              "    }\n",
              "</style>\n",
              "<table border=\"1\" class=\"dataframe\">\n",
              "  <thead>\n",
              "    <tr style=\"text-align: right;\">\n",
              "      <th></th>\n",
              "      <th>ghi</th>\n",
              "      <th>dni</th>\n",
              "      <th>dhi</th>\n",
              "      <th>air_temperature</th>\n",
              "      <th>relative_humidity</th>\n",
              "      <th>wind_speed</th>\n",
              "      <th>wind_speed_of_gust</th>\n",
              "      <th>wind_from_direction_st_dev</th>\n",
              "      <th>wind_from_direction</th>\n",
              "      <th>barometric_pressure</th>\n",
              "      <th>rain</th>\n",
              "      <th>sensor_cleaning</th>\n",
              "      <th>comments</th>\n",
              "    </tr>\n",
              "    <tr>\n",
              "      <th>time</th>\n",
              "      <th></th>\n",
              "      <th></th>\n",
              "      <th></th>\n",
              "      <th></th>\n",
              "      <th></th>\n",
              "      <th></th>\n",
              "      <th></th>\n",
              "      <th></th>\n",
              "      <th></th>\n",
              "      <th></th>\n",
              "      <th></th>\n",
              "      <th></th>\n",
              "      <th></th>\n",
              "    </tr>\n",
              "  </thead>\n",
              "  <tbody>\n",
              "    <tr>\n",
              "      <th>2018-07-01 00:01:00</th>\n",
              "      <td>0.0</td>\n",
              "      <td>NaN</td>\n",
              "      <td>NaN</td>\n",
              "      <td>26.7</td>\n",
              "      <td>95.0</td>\n",
              "      <td>2.5</td>\n",
              "      <td>3.2</td>\n",
              "      <td>8.2</td>\n",
              "      <td>27.9</td>\n",
              "      <td>965.3</td>\n",
              "      <td>0.0</td>\n",
              "      <td>0</td>\n",
              "      <td>Tracking device misaligned; no DNI/DHI measure...</td>\n",
              "    </tr>\n",
              "    <tr>\n",
              "      <th>2018-07-01 00:02:00</th>\n",
              "      <td>0.0</td>\n",
              "      <td>NaN</td>\n",
              "      <td>NaN</td>\n",
              "      <td>26.7</td>\n",
              "      <td>94.5</td>\n",
              "      <td>2.3</td>\n",
              "      <td>2.9</td>\n",
              "      <td>7.5</td>\n",
              "      <td>24.3</td>\n",
              "      <td>965.3</td>\n",
              "      <td>0.0</td>\n",
              "      <td>0</td>\n",
              "      <td>Tracking device misaligned; no DNI/DHI measure...</td>\n",
              "    </tr>\n",
              "    <tr>\n",
              "      <th>2018-07-01 00:03:00</th>\n",
              "      <td>0.0</td>\n",
              "      <td>NaN</td>\n",
              "      <td>NaN</td>\n",
              "      <td>26.7</td>\n",
              "      <td>94.3</td>\n",
              "      <td>2.4</td>\n",
              "      <td>3.2</td>\n",
              "      <td>9.0</td>\n",
              "      <td>20.7</td>\n",
              "      <td>965.3</td>\n",
              "      <td>0.0</td>\n",
              "      <td>0</td>\n",
              "      <td>Tracking device misaligned; no DNI/DHI measure...</td>\n",
              "    </tr>\n",
              "    <tr>\n",
              "      <th>2018-07-01 00:04:00</th>\n",
              "      <td>0.0</td>\n",
              "      <td>NaN</td>\n",
              "      <td>NaN</td>\n",
              "      <td>26.7</td>\n",
              "      <td>94.3</td>\n",
              "      <td>2.5</td>\n",
              "      <td>2.9</td>\n",
              "      <td>8.9</td>\n",
              "      <td>15.6</td>\n",
              "      <td>965.2</td>\n",
              "      <td>0.0</td>\n",
              "      <td>0</td>\n",
              "      <td>Tracking device misaligned; no DNI/DHI measure...</td>\n",
              "    </tr>\n",
              "    <tr>\n",
              "      <th>2018-07-01 00:05:00</th>\n",
              "      <td>0.0</td>\n",
              "      <td>NaN</td>\n",
              "      <td>NaN</td>\n",
              "      <td>26.8</td>\n",
              "      <td>94.2</td>\n",
              "      <td>2.1</td>\n",
              "      <td>2.9</td>\n",
              "      <td>7.4</td>\n",
              "      <td>15.4</td>\n",
              "      <td>965.2</td>\n",
              "      <td>0.0</td>\n",
              "      <td>0</td>\n",
              "      <td>Tracking device misaligned; no DNI/DHI measure...</td>\n",
              "    </tr>\n",
              "  </tbody>\n",
              "</table>\n",
              "</div>"
            ],
            "text/plain": [
              "                     ghi  ...                                           comments\n",
              "time                      ...                                                   \n",
              "2018-07-01 00:01:00  0.0  ...  Tracking device misaligned; no DNI/DHI measure...\n",
              "2018-07-01 00:02:00  0.0  ...  Tracking device misaligned; no DNI/DHI measure...\n",
              "2018-07-01 00:03:00  0.0  ...  Tracking device misaligned; no DNI/DHI measure...\n",
              "2018-07-01 00:04:00  0.0  ...  Tracking device misaligned; no DNI/DHI measure...\n",
              "2018-07-01 00:05:00  0.0  ...  Tracking device misaligned; no DNI/DHI measure...\n",
              "\n",
              "[5 rows x 13 columns]"
            ]
          },
          "metadata": {
            "tags": []
          },
          "execution_count": 191
        }
      ]
    },
    {
      "cell_type": "markdown",
      "metadata": {
        "id": "is6nycsRniuz"
      },
      "source": [
        "**Rain analysis**"
      ]
    },
    {
      "cell_type": "code",
      "metadata": {
        "colab": {
          "base_uri": "https://localhost:8080/"
        },
        "id": "4AEQN41Ll0bn",
        "outputId": "e314a477-7891-4884-db59-120b95e830bf"
      },
      "source": [
        "df_time = df[['rain']]\n",
        "df_time.head"
      ],
      "execution_count": 194,
      "outputs": [
        {
          "output_type": "execute_result",
          "data": {
            "text/plain": [
              "<bound method NDFrame.head of                      rain\n",
              "time                     \n",
              "2018-07-01 00:01:00   0.0\n",
              "2018-07-01 00:02:00   0.0\n",
              "2018-07-01 00:03:00   0.0\n",
              "2018-07-01 00:04:00   0.0\n",
              "2018-07-01 00:05:00   0.0\n",
              "...                   ...\n",
              "2020-04-30 23:56:00   0.0\n",
              "2020-04-30 23:57:00   0.0\n",
              "2020-04-30 23:58:00   0.0\n",
              "2020-04-30 23:59:00   0.0\n",
              "2020-05-01 00:00:00   0.0\n",
              "\n",
              "[964800 rows x 1 columns]>"
            ]
          },
          "metadata": {
            "tags": []
          },
          "execution_count": 194
        }
      ]
    },
    {
      "cell_type": "code",
      "metadata": {
        "colab": {
          "base_uri": "https://localhost:8080/",
          "height": 455
        },
        "id": "CEun0sC9mjeF",
        "outputId": "8fbd8ffb-8b63-409d-b252-e0ce1122e630"
      },
      "source": [
        "rain_2018 = df_time.loc['2018']\n",
        "rain_2019 = df_time.loc['2019']\n",
        "rain_2020 = df_time.loc['2020']\n",
        "rain_2018"
      ],
      "execution_count": 203,
      "outputs": [
        {
          "output_type": "execute_result",
          "data": {
            "text/html": [
              "<div>\n",
              "<style scoped>\n",
              "    .dataframe tbody tr th:only-of-type {\n",
              "        vertical-align: middle;\n",
              "    }\n",
              "\n",
              "    .dataframe tbody tr th {\n",
              "        vertical-align: top;\n",
              "    }\n",
              "\n",
              "    .dataframe thead th {\n",
              "        text-align: right;\n",
              "    }\n",
              "</style>\n",
              "<table border=\"1\" class=\"dataframe\">\n",
              "  <thead>\n",
              "    <tr style=\"text-align: right;\">\n",
              "      <th></th>\n",
              "      <th>rain</th>\n",
              "    </tr>\n",
              "    <tr>\n",
              "      <th>time</th>\n",
              "      <th></th>\n",
              "    </tr>\n",
              "  </thead>\n",
              "  <tbody>\n",
              "    <tr>\n",
              "      <th>2018-07-01 00:01:00</th>\n",
              "      <td>0.0</td>\n",
              "    </tr>\n",
              "    <tr>\n",
              "      <th>2018-07-01 00:02:00</th>\n",
              "      <td>0.0</td>\n",
              "    </tr>\n",
              "    <tr>\n",
              "      <th>2018-07-01 00:03:00</th>\n",
              "      <td>0.0</td>\n",
              "    </tr>\n",
              "    <tr>\n",
              "      <th>2018-07-01 00:04:00</th>\n",
              "      <td>0.0</td>\n",
              "    </tr>\n",
              "    <tr>\n",
              "      <th>2018-07-01 00:05:00</th>\n",
              "      <td>0.0</td>\n",
              "    </tr>\n",
              "    <tr>\n",
              "      <th>...</th>\n",
              "      <td>...</td>\n",
              "    </tr>\n",
              "    <tr>\n",
              "      <th>2018-12-31 23:55:00</th>\n",
              "      <td>0.0</td>\n",
              "    </tr>\n",
              "    <tr>\n",
              "      <th>2018-12-31 23:56:00</th>\n",
              "      <td>0.0</td>\n",
              "    </tr>\n",
              "    <tr>\n",
              "      <th>2018-12-31 23:57:00</th>\n",
              "      <td>0.0</td>\n",
              "    </tr>\n",
              "    <tr>\n",
              "      <th>2018-12-31 23:58:00</th>\n",
              "      <td>0.0</td>\n",
              "    </tr>\n",
              "    <tr>\n",
              "      <th>2018-12-31 23:59:00</th>\n",
              "      <td>0.0</td>\n",
              "    </tr>\n",
              "  </tbody>\n",
              "</table>\n",
              "<p>264959 rows × 1 columns</p>\n",
              "</div>"
            ],
            "text/plain": [
              "                     rain\n",
              "time                     \n",
              "2018-07-01 00:01:00   0.0\n",
              "2018-07-01 00:02:00   0.0\n",
              "2018-07-01 00:03:00   0.0\n",
              "2018-07-01 00:04:00   0.0\n",
              "2018-07-01 00:05:00   0.0\n",
              "...                   ...\n",
              "2018-12-31 23:55:00   0.0\n",
              "2018-12-31 23:56:00   0.0\n",
              "2018-12-31 23:57:00   0.0\n",
              "2018-12-31 23:58:00   0.0\n",
              "2018-12-31 23:59:00   0.0\n",
              "\n",
              "[264959 rows x 1 columns]"
            ]
          },
          "metadata": {
            "tags": []
          },
          "execution_count": 203
        }
      ]
    },
    {
      "cell_type": "code",
      "metadata": {
        "colab": {
          "base_uri": "https://localhost:8080/",
          "height": 238
        },
        "id": "kjyEcoWHm9FV",
        "outputId": "4c77eed0-c0da-46b3-b0e5-e0682a268bb3"
      },
      "source": [
        "rain_2018.resample('D').mean().head()\n",
        "rain_2019.resample('D').mean().head()\n",
        "rain_2020.resample('D').mean().head()"
      ],
      "execution_count": 205,
      "outputs": [
        {
          "output_type": "execute_result",
          "data": {
            "text/html": [
              "<div>\n",
              "<style scoped>\n",
              "    .dataframe tbody tr th:only-of-type {\n",
              "        vertical-align: middle;\n",
              "    }\n",
              "\n",
              "    .dataframe tbody tr th {\n",
              "        vertical-align: top;\n",
              "    }\n",
              "\n",
              "    .dataframe thead th {\n",
              "        text-align: right;\n",
              "    }\n",
              "</style>\n",
              "<table border=\"1\" class=\"dataframe\">\n",
              "  <thead>\n",
              "    <tr style=\"text-align: right;\">\n",
              "      <th></th>\n",
              "      <th>rain</th>\n",
              "    </tr>\n",
              "    <tr>\n",
              "      <th>time</th>\n",
              "      <th></th>\n",
              "    </tr>\n",
              "  </thead>\n",
              "  <tbody>\n",
              "    <tr>\n",
              "      <th>2020-01-01</th>\n",
              "      <td>0.000000</td>\n",
              "    </tr>\n",
              "    <tr>\n",
              "      <th>2020-01-02</th>\n",
              "      <td>0.000000</td>\n",
              "    </tr>\n",
              "    <tr>\n",
              "      <th>2020-01-03</th>\n",
              "      <td>0.006875</td>\n",
              "    </tr>\n",
              "    <tr>\n",
              "      <th>2020-01-04</th>\n",
              "      <td>0.000486</td>\n",
              "    </tr>\n",
              "    <tr>\n",
              "      <th>2020-01-05</th>\n",
              "      <td>0.000000</td>\n",
              "    </tr>\n",
              "  </tbody>\n",
              "</table>\n",
              "</div>"
            ],
            "text/plain": [
              "                rain\n",
              "time                \n",
              "2020-01-01  0.000000\n",
              "2020-01-02  0.000000\n",
              "2020-01-03  0.006875\n",
              "2020-01-04  0.000486\n",
              "2020-01-05  0.000000"
            ]
          },
          "metadata": {
            "tags": []
          },
          "execution_count": 205
        }
      ]
    },
    {
      "cell_type": "code",
      "metadata": {
        "colab": {
          "base_uri": "https://localhost:8080/",
          "height": 299
        },
        "id": "o7POCzGym6OO",
        "outputId": "ebab60b8-d204-4f5b-cab8-b49ca302cfdd"
      },
      "source": [
        "_ = rain_2018.plot()"
      ],
      "execution_count": 206,
      "outputs": [
        {
          "output_type": "display_data",
          "data": {
            "image/png": "[encoded data removed]",
            "text/plain": [
              "<Figure size 432x288 with 1 Axes>"
            ]
          },
          "metadata": {
            "tags": []
          }
        }
      ]
    }
  ]
}