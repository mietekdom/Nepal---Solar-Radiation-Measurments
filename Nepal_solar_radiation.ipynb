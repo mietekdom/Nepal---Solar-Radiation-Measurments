{
  "nbformat": 4,
  "nbformat_minor": 0,
  "metadata": {
    "colab": {
      "name": "Nepal_solar_radiation.ipynb",
      "provenance": [],
      "collapsed_sections": [],
      "authorship_tag": "ABX9TyO0cAmz5FSMU8vhM+qPXm17",
      "include_colab_link": true
    },
    "kernelspec": {
      "name": "python3",
      "display_name": "Python 3"
    }
  },
  "cells": [
    {
      "cell_type": "markdown",
      "metadata": {
        "id": "view-in-github",
        "colab_type": "text"
      },
      "source": [
        "<a href=\"https://colab.research.google.com/github/mietekdom/Nepal_Solar-Radiation-Measurments/blob/main/Nepal_solar_radiation.ipynb\" target=\"_parent\"><img src=\"https://colab.research.google.com/assets/colab-badge.svg\" alt=\"Open In Colab\"/></a>"
      ]
    },
    {
      "cell_type": "code",
      "metadata": {
        "colab": {
          "base_uri": "https://localhost:8080/",
          "height": 35
        },
        "id": "zSZCQ6SIldZr",
        "outputId": "e198a220-2d68-4d36-c2e5-6dbab6a725ac"
      },
      "source": [
        "import pandas as pd\n",
        "import numpy as np\n",
        "import plotly\n",
        "import plotly.express as px\n",
        "plotly.__version__"
      ],
      "execution_count": 1,
      "outputs": [
        {
          "output_type": "execute_result",
          "data": {
            "application/vnd.google.colaboratory.intrinsic+json": {
              "type": "string"
            },
            "text/plain": [
              "'4.4.1'"
            ]
          },
          "metadata": {
            "tags": []
          },
          "execution_count": 1
        }
      ]
    },
    {
      "cell_type": "markdown",
      "metadata": {
        "id": "4MyQCKszq17W"
      },
      "source": [
        "**Import data**"
      ]
    },
    {
      "cell_type": "code",
      "metadata": {
        "colab": {
          "base_uri": "https://localhost:8080/",
          "height": 643
        },
        "id": "dE39nIt4rMHn",
        "outputId": "4b76714b-7809-4608-f01b-de8c4d58c5dd"
      },
      "source": [
        "df = pd.read_csv('https://energydata.info/dataset/ead8d2fa-de59-48d3-8693-817b36b3a470/resource/ef17f691-0256-497d-a5ee-3c6a334ae1e2/download/solar-measurements_nepal_dharan_wb-esmap_qc.csv')\n",
        "df.head()\n"
      ],
      "execution_count": 3,
      "outputs": [
        {
          "output_type": "stream",
          "text": [
            "/usr/local/lib/python3.6/dist-packages/IPython/core/interactiveshell.py:2718: DtypeWarning:\n",
            "\n",
            "Columns (13) have mixed types.Specify dtype option on import or set low_memory=False.\n",
            "\n"
          ],
          "name": "stderr"
        },
        {
          "output_type": "execute_result",
          "data": {
            "text/html": [
              "<div>\n",
              "<style scoped>\n",
              "    .dataframe tbody tr th:only-of-type {\n",
              "        vertical-align: middle;\n",
              "    }\n",
              "\n",
              "    .dataframe tbody tr th {\n",
              "        vertical-align: top;\n",
              "    }\n",
              "\n",
              "    .dataframe thead th {\n",
              "        text-align: right;\n",
              "    }\n",
              "</style>\n",
              "<table border=\"1\" class=\"dataframe\">\n",
              "  <thead>\n",
              "    <tr style=\"text-align: right;\">\n",
              "      <th></th>\n",
              "      <th>time</th>\n",
              "      <th>ghi</th>\n",
              "      <th>dni</th>\n",
              "      <th>dhi</th>\n",
              "      <th>air_temperature</th>\n",
              "      <th>relative_humidity</th>\n",
              "      <th>wind_speed</th>\n",
              "      <th>wind_speed_of_gust</th>\n",
              "      <th>wind_from_direction_st_dev</th>\n",
              "      <th>wind_from_direction</th>\n",
              "      <th>barometric_pressure</th>\n",
              "      <th>rain</th>\n",
              "      <th>sensor_cleaning</th>\n",
              "      <th>comments</th>\n",
              "    </tr>\n",
              "  </thead>\n",
              "  <tbody>\n",
              "    <tr>\n",
              "      <th>0</th>\n",
              "      <td>2018-07-01 00:01</td>\n",
              "      <td>0.0</td>\n",
              "      <td>NaN</td>\n",
              "      <td>NaN</td>\n",
              "      <td>26.7</td>\n",
              "      <td>95.0</td>\n",
              "      <td>2.5</td>\n",
              "      <td>3.2</td>\n",
              "      <td>8.2</td>\n",
              "      <td>27.9</td>\n",
              "      <td>965.3</td>\n",
              "      <td>0.0</td>\n",
              "      <td>0</td>\n",
              "      <td>Tracking device misaligned; no DNI/DHI measure...</td>\n",
              "    </tr>\n",
              "    <tr>\n",
              "      <th>1</th>\n",
              "      <td>2018-07-01 00:02</td>\n",
              "      <td>0.0</td>\n",
              "      <td>NaN</td>\n",
              "      <td>NaN</td>\n",
              "      <td>26.7</td>\n",
              "      <td>94.5</td>\n",
              "      <td>2.3</td>\n",
              "      <td>2.9</td>\n",
              "      <td>7.5</td>\n",
              "      <td>24.3</td>\n",
              "      <td>965.3</td>\n",
              "      <td>0.0</td>\n",
              "      <td>0</td>\n",
              "      <td>Tracking device misaligned; no DNI/DHI measure...</td>\n",
              "    </tr>\n",
              "    <tr>\n",
              "      <th>2</th>\n",
              "      <td>2018-07-01 00:03</td>\n",
              "      <td>0.0</td>\n",
              "      <td>NaN</td>\n",
              "      <td>NaN</td>\n",
              "      <td>26.7</td>\n",
              "      <td>94.3</td>\n",
              "      <td>2.4</td>\n",
              "      <td>3.2</td>\n",
              "      <td>9.0</td>\n",
              "      <td>20.7</td>\n",
              "      <td>965.3</td>\n",
              "      <td>0.0</td>\n",
              "      <td>0</td>\n",
              "      <td>Tracking device misaligned; no DNI/DHI measure...</td>\n",
              "    </tr>\n",
              "    <tr>\n",
              "      <th>3</th>\n",
              "      <td>2018-07-01 00:04</td>\n",
              "      <td>0.0</td>\n",
              "      <td>NaN</td>\n",
              "      <td>NaN</td>\n",
              "      <td>26.7</td>\n",
              "      <td>94.3</td>\n",
              "      <td>2.5</td>\n",
              "      <td>2.9</td>\n",
              "      <td>8.9</td>\n",
              "      <td>15.6</td>\n",
              "      <td>965.2</td>\n",
              "      <td>0.0</td>\n",
              "      <td>0</td>\n",
              "      <td>Tracking device misaligned; no DNI/DHI measure...</td>\n",
              "    </tr>\n",
              "    <tr>\n",
              "      <th>4</th>\n",
              "      <td>2018-07-01 00:05</td>\n",
              "      <td>0.0</td>\n",
              "      <td>NaN</td>\n",
              "      <td>NaN</td>\n",
              "      <td>26.8</td>\n",
              "      <td>94.2</td>\n",
              "      <td>2.1</td>\n",
              "      <td>2.9</td>\n",
              "      <td>7.4</td>\n",
              "      <td>15.4</td>\n",
              "      <td>965.2</td>\n",
              "      <td>0.0</td>\n",
              "      <td>0</td>\n",
              "      <td>Tracking device misaligned; no DNI/DHI measure...</td>\n",
              "    </tr>\n",
              "  </tbody>\n",
              "</table>\n",
              "</div>"
            ],
            "text/plain": [
              "               time  ...                                           comments\n",
              "0  2018-07-01 00:01  ...  Tracking device misaligned; no DNI/DHI measure...\n",
              "1  2018-07-01 00:02  ...  Tracking device misaligned; no DNI/DHI measure...\n",
              "2  2018-07-01 00:03  ...  Tracking device misaligned; no DNI/DHI measure...\n",
              "3  2018-07-01 00:04  ...  Tracking device misaligned; no DNI/DHI measure...\n",
              "4  2018-07-01 00:05  ...  Tracking device misaligned; no DNI/DHI measure...\n",
              "\n",
              "[5 rows x 14 columns]"
            ]
          },
          "metadata": {
            "tags": []
          },
          "execution_count": 3
        }
      ]
    },
    {
      "cell_type": "code",
      "metadata": {
        "colab": {
          "base_uri": "https://localhost:8080/"
        },
        "id": "hDea2feBsRsK",
        "outputId": "cf6cddd6-e226-4097-ce24-b254713f0348"
      },
      "source": [
        "df.info()"
      ],
      "execution_count": 4,
      "outputs": [
        {
          "output_type": "stream",
          "text": [
            "<class 'pandas.core.frame.DataFrame'>\n",
            "RangeIndex: 964800 entries, 0 to 964799\n",
            "Data columns (total 14 columns):\n",
            " #   Column                      Non-Null Count   Dtype  \n",
            "---  ------                      --------------   -----  \n",
            " 0   time                        964800 non-null  object \n",
            " 1   ghi                         964800 non-null  float64\n",
            " 2   dni                         933840 non-null  float64\n",
            " 3   dhi                         933840 non-null  float64\n",
            " 4   air_temperature             964800 non-null  float64\n",
            " 5   relative_humidity           964800 non-null  float64\n",
            " 6   wind_speed                  964800 non-null  float64\n",
            " 7   wind_speed_of_gust          964800 non-null  float64\n",
            " 8   wind_from_direction_st_dev  964800 non-null  float64\n",
            " 9   wind_from_direction         964800 non-null  float64\n",
            " 10  barometric_pressure         964800 non-null  float64\n",
            " 11  rain                        964800 non-null  float64\n",
            " 12  sensor_cleaning             964800 non-null  int64  \n",
            " 13  comments                    182153 non-null  object \n",
            "dtypes: float64(11), int64(1), object(2)\n",
            "memory usage: 103.1+ MB\n"
          ],
          "name": "stdout"
        }
      ]
    },
    {
      "cell_type": "markdown",
      "metadata": {
        "id": "q1CfTj12vVa_"
      },
      "source": [
        "Description:\n",
        "\n",
        "ghi\t- Global horizontal irradiance (W/m²) from thermopile pyranometer\n",
        "\n",
        "dni\t- Direct normal irradiance (W/m²) from thermopile pyrheliometer\n",
        "\n",
        "dhi\t- Diffused horizontal irradiance (W/m²) from thermopile pyranometer\n"
      ]
    },
    {
      "cell_type": "code",
      "metadata": {
        "id": "FFj6DM8gved1"
      },
      "source": [
        ""
      ],
      "execution_count": null,
      "outputs": []
    }
  ]
}